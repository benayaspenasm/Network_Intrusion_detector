{
 "cells": [
  {
   "cell_type": "code",
   "execution_count": 1,
   "metadata": {},
   "outputs": [],
   "source": [
    "\"\"\" Cualquier librería adicional que necesiteis durante el ejercicio, importadlo en esta sección \"\"\"\n",
    "\n",
    "import pandas as pd\n",
    "import numpy as np\n",
    "import matplotlib.pyplot as plt\n",
    "import seaborn as sns\n",
    "import warnings\n",
    "\n",
    "sns.set_style('darkgrid')\n",
    "np.set_printoptions(precision=2)\n",
    "warnings.filterwarnings(\"ignore\")\n",
    "\n",
    "from sklearn.preprocessing import MinMaxScaler, StandardScaler, Normalizer, Binarizer, RobustScaler\n",
    "from sklearn.compose import ColumnTransformer\n",
    "from sklearn.preprocessing import OneHotEncoder, LabelEncoder, PowerTransformer\n",
    "from sklearn.impute import SimpleImputer, KNNImputer\n",
    "\n",
    "from sklearn.feature_selection import SelectKBest, chi2, RFE\n",
    "from sklearn.model_selection import train_test_split\n",
    "from sklearn.pipeline import make_pipeline, Pipeline\n",
    "from sklearn.decomposition import PCA\n",
    "\n",
    "from sklearn.linear_model import LogisticRegression\n",
    "from sklearn.tree import DecisionTreeClassifier\n",
    "from sklearn.neighbors import KNeighborsClassifier\n",
    "from sklearn.discriminant_analysis import LinearDiscriminantAnalysis\n",
    "from sklearn.naive_bayes import GaussianNB\n",
    "from sklearn.ensemble import RandomForestClassifier, ExtraTreesClassifier\n",
    "from sklearn.svm import SVC\n",
    "\n",
    "from sklearn.metrics import accuracy_score, confusion_matrix, classification_report, f1_score\n",
    "\n",
    "from sklearn.model_selection import KFold, ShuffleSplit, LeaveOneOut, StratifiedKFold\n",
    "from sklearn.model_selection import cross_val_score, cross_val_predict\n",
    "from sklearn.model_selection import GridSearchCV, RandomizedSearchCV\n",
    "\n",
    "\n",
    "\n",
    "\"\"\"\n",
    "Importo estas dos funciones que usaré en el model evaluation\n",
    "\"\"\"\n",
    "\n",
    "from sklearn.ensemble import GradientBoostingClassifier\n",
    "from sklearn.model_selection import RepeatedKFold"
   ]
  },
  {
   "cell_type": "markdown",
   "metadata": {},
   "source": [
    "# Ejercicio 2\n",
    "\n",
    "Este ejercicio pretende poner en práctica la habilidad de limpiar datos y visualizar plots en para crear finalmente modelos en __sklearn__.\n",
    "\n",
    "El estudiante tendrá que repasar los comandos realizados en clase y lidiar con posibles errores durante el desarrollo. \n",
    "\n",
    "Para facilitar y agilizar el desarrollo, el estudiante tendrá que rellenar los huecos marcados como '_# codigo-alumno_'. No obstante, si además el estudiante necesita ejecutar código adicional, siempre podrá utilizar cualquier celda adicional. \n",
    "\n",
    "El estudiante tendrá siempre que introducir una semilla (seed) que generará acorde a su fecha de nacimiento (sin ser intrusivos en edad).\n",
    "\n",
    "Finalmente, la entrega será un fichero .ipynb cambiando nombre y apellido al fichero."
   ]
  },
  {
   "cell_type": "code",
   "execution_count": 2,
   "metadata": {},
   "outputs": [],
   "source": [
    "\"\"\" El estudiante tendrá que utilizar la semilla proporcionada para todos los procesos aleatorios \"\"\"\n",
    "\n",
    "seed = 17 + 13*9 #dia-nacimiento-estudiante + 13 * mes-nacimiento-estudiante"
   ]
  },
  {
   "cell_type": "markdown",
   "metadata": {},
   "source": [
    "### Data cleansing"
   ]
  },
  {
   "cell_type": "code",
   "execution_count": 3,
   "metadata": {},
   "outputs": [
    {
     "data": {
      "text/html": [
       "<div>\n",
       "<style scoped>\n",
       "    .dataframe tbody tr th:only-of-type {\n",
       "        vertical-align: middle;\n",
       "    }\n",
       "\n",
       "    .dataframe tbody tr th {\n",
       "        vertical-align: top;\n",
       "    }\n",
       "\n",
       "    .dataframe thead th {\n",
       "        text-align: right;\n",
       "    }\n",
       "</style>\n",
       "<table border=\"1\" class=\"dataframe\">\n",
       "  <thead>\n",
       "    <tr style=\"text-align: right;\">\n",
       "      <th></th>\n",
       "      <th>duration</th>\n",
       "      <th>protocol_type</th>\n",
       "      <th>service</th>\n",
       "      <th>flag</th>\n",
       "      <th>src_bytes</th>\n",
       "      <th>dst_bytes</th>\n",
       "      <th>land</th>\n",
       "      <th>wrong_fragment</th>\n",
       "      <th>urgent</th>\n",
       "      <th>hot</th>\n",
       "      <th>...</th>\n",
       "      <th>dst_host_srv_count</th>\n",
       "      <th>dst_host_same_srv_rate</th>\n",
       "      <th>dst_host_diff_srv_rate</th>\n",
       "      <th>dst_host_same_src_port_rate</th>\n",
       "      <th>dst_host_srv_diff_host_rate</th>\n",
       "      <th>dst_host_serror_rate</th>\n",
       "      <th>dst_host_srv_serror_rate</th>\n",
       "      <th>dst_host_rerror_rate</th>\n",
       "      <th>dst_host_srv_rerror_rate</th>\n",
       "      <th>labels</th>\n",
       "    </tr>\n",
       "  </thead>\n",
       "  <tbody>\n",
       "    <tr>\n",
       "      <th>0</th>\n",
       "      <td>0</td>\n",
       "      <td>b'tcp'</td>\n",
       "      <td>b'http'</td>\n",
       "      <td>b'SF'</td>\n",
       "      <td>181</td>\n",
       "      <td>5450</td>\n",
       "      <td>0</td>\n",
       "      <td>0</td>\n",
       "      <td>0</td>\n",
       "      <td>0</td>\n",
       "      <td>...</td>\n",
       "      <td>9</td>\n",
       "      <td>1.0</td>\n",
       "      <td>0.0</td>\n",
       "      <td>0.11</td>\n",
       "      <td>0.0</td>\n",
       "      <td>0.0</td>\n",
       "      <td>0.0</td>\n",
       "      <td>0.0</td>\n",
       "      <td>0.0</td>\n",
       "      <td>b'normal.'</td>\n",
       "    </tr>\n",
       "    <tr>\n",
       "      <th>1</th>\n",
       "      <td>0</td>\n",
       "      <td>b'tcp'</td>\n",
       "      <td>b'http'</td>\n",
       "      <td>b'SF'</td>\n",
       "      <td>239</td>\n",
       "      <td>486</td>\n",
       "      <td>0</td>\n",
       "      <td>0</td>\n",
       "      <td>0</td>\n",
       "      <td>0</td>\n",
       "      <td>...</td>\n",
       "      <td>19</td>\n",
       "      <td>1.0</td>\n",
       "      <td>0.0</td>\n",
       "      <td>0.05</td>\n",
       "      <td>0.0</td>\n",
       "      <td>0.0</td>\n",
       "      <td>0.0</td>\n",
       "      <td>0.0</td>\n",
       "      <td>0.0</td>\n",
       "      <td>b'normal.'</td>\n",
       "    </tr>\n",
       "    <tr>\n",
       "      <th>2</th>\n",
       "      <td>0</td>\n",
       "      <td>b'tcp'</td>\n",
       "      <td>b'http'</td>\n",
       "      <td>b'SF'</td>\n",
       "      <td>235</td>\n",
       "      <td>1337</td>\n",
       "      <td>0</td>\n",
       "      <td>0</td>\n",
       "      <td>0</td>\n",
       "      <td>0</td>\n",
       "      <td>...</td>\n",
       "      <td>29</td>\n",
       "      <td>1.0</td>\n",
       "      <td>0.0</td>\n",
       "      <td>0.03</td>\n",
       "      <td>0.0</td>\n",
       "      <td>0.0</td>\n",
       "      <td>0.0</td>\n",
       "      <td>0.0</td>\n",
       "      <td>0.0</td>\n",
       "      <td>b'normal.'</td>\n",
       "    </tr>\n",
       "    <tr>\n",
       "      <th>3</th>\n",
       "      <td>0</td>\n",
       "      <td>b'tcp'</td>\n",
       "      <td>b'http'</td>\n",
       "      <td>b'SF'</td>\n",
       "      <td>219</td>\n",
       "      <td>1337</td>\n",
       "      <td>0</td>\n",
       "      <td>0</td>\n",
       "      <td>0</td>\n",
       "      <td>0</td>\n",
       "      <td>...</td>\n",
       "      <td>39</td>\n",
       "      <td>1.0</td>\n",
       "      <td>0.0</td>\n",
       "      <td>0.03</td>\n",
       "      <td>0.0</td>\n",
       "      <td>0.0</td>\n",
       "      <td>0.0</td>\n",
       "      <td>0.0</td>\n",
       "      <td>0.0</td>\n",
       "      <td>b'normal.'</td>\n",
       "    </tr>\n",
       "    <tr>\n",
       "      <th>4</th>\n",
       "      <td>0</td>\n",
       "      <td>b'tcp'</td>\n",
       "      <td>b'http'</td>\n",
       "      <td>b'SF'</td>\n",
       "      <td>217</td>\n",
       "      <td>2032</td>\n",
       "      <td>0</td>\n",
       "      <td>0</td>\n",
       "      <td>0</td>\n",
       "      <td>0</td>\n",
       "      <td>...</td>\n",
       "      <td>49</td>\n",
       "      <td>1.0</td>\n",
       "      <td>0.0</td>\n",
       "      <td>0.02</td>\n",
       "      <td>0.0</td>\n",
       "      <td>0.0</td>\n",
       "      <td>0.0</td>\n",
       "      <td>0.0</td>\n",
       "      <td>0.0</td>\n",
       "      <td>b'normal.'</td>\n",
       "    </tr>\n",
       "  </tbody>\n",
       "</table>\n",
       "<p>5 rows × 42 columns</p>\n",
       "</div>"
      ],
      "text/plain": [
       "  duration protocol_type  service   flag src_bytes dst_bytes land  \\\n",
       "0        0        b'tcp'  b'http'  b'SF'       181      5450    0   \n",
       "1        0        b'tcp'  b'http'  b'SF'       239       486    0   \n",
       "2        0        b'tcp'  b'http'  b'SF'       235      1337    0   \n",
       "3        0        b'tcp'  b'http'  b'SF'       219      1337    0   \n",
       "4        0        b'tcp'  b'http'  b'SF'       217      2032    0   \n",
       "\n",
       "  wrong_fragment urgent hot  ... dst_host_srv_count dst_host_same_srv_rate  \\\n",
       "0              0      0   0  ...                  9                    1.0   \n",
       "1              0      0   0  ...                 19                    1.0   \n",
       "2              0      0   0  ...                 29                    1.0   \n",
       "3              0      0   0  ...                 39                    1.0   \n",
       "4              0      0   0  ...                 49                    1.0   \n",
       "\n",
       "  dst_host_diff_srv_rate dst_host_same_src_port_rate  \\\n",
       "0                    0.0                        0.11   \n",
       "1                    0.0                        0.05   \n",
       "2                    0.0                        0.03   \n",
       "3                    0.0                        0.03   \n",
       "4                    0.0                        0.02   \n",
       "\n",
       "  dst_host_srv_diff_host_rate dst_host_serror_rate dst_host_srv_serror_rate  \\\n",
       "0                         0.0                  0.0                      0.0   \n",
       "1                         0.0                  0.0                      0.0   \n",
       "2                         0.0                  0.0                      0.0   \n",
       "3                         0.0                  0.0                      0.0   \n",
       "4                         0.0                  0.0                      0.0   \n",
       "\n",
       "  dst_host_rerror_rate dst_host_srv_rerror_rate      labels  \n",
       "0                  0.0                      0.0  b'normal.'  \n",
       "1                  0.0                      0.0  b'normal.'  \n",
       "2                  0.0                      0.0  b'normal.'  \n",
       "3                  0.0                      0.0  b'normal.'  \n",
       "4                  0.0                      0.0  b'normal.'  \n",
       "\n",
       "[5 rows x 42 columns]"
      ]
     },
     "execution_count": 3,
     "metadata": {},
     "output_type": "execute_result"
    }
   ],
   "source": [
    "\"\"\" Leed el dataframe de sklearn llamado 'fetch_kddcup99' y almacenarlo en una variable llamada data \"\"\"\n",
    "\n",
    "from sklearn.datasets import fetch_kddcup99\n",
    "\n",
    "data = fetch_kddcup99(as_frame=True)\n",
    "pd_data = data.frame\n",
    "pd_data.head()"
   ]
  },
  {
   "cell_type": "code",
   "execution_count": 4,
   "metadata": {},
   "outputs": [
    {
     "data": {
      "text/html": [
       "<div>\n",
       "<style scoped>\n",
       "    .dataframe tbody tr th:only-of-type {\n",
       "        vertical-align: middle;\n",
       "    }\n",
       "\n",
       "    .dataframe tbody tr th {\n",
       "        vertical-align: top;\n",
       "    }\n",
       "\n",
       "    .dataframe thead th {\n",
       "        text-align: right;\n",
       "    }\n",
       "</style>\n",
       "<table border=\"1\" class=\"dataframe\">\n",
       "  <thead>\n",
       "    <tr style=\"text-align: right;\">\n",
       "      <th></th>\n",
       "      <th>duration</th>\n",
       "      <th>protocol_type</th>\n",
       "      <th>service</th>\n",
       "      <th>flag</th>\n",
       "      <th>logged_in</th>\n",
       "      <th>count</th>\n",
       "      <th>srv_count</th>\n",
       "      <th>serror_rate</th>\n",
       "      <th>dst_host_srv_count</th>\n",
       "      <th>dst_host_srv_serror_rate</th>\n",
       "      <th>labels</th>\n",
       "    </tr>\n",
       "  </thead>\n",
       "  <tbody>\n",
       "    <tr>\n",
       "      <th>0</th>\n",
       "      <td>0</td>\n",
       "      <td>b'tcp'</td>\n",
       "      <td>b'http'</td>\n",
       "      <td>b'SF'</td>\n",
       "      <td>1</td>\n",
       "      <td>8</td>\n",
       "      <td>8</td>\n",
       "      <td>0.0</td>\n",
       "      <td>9</td>\n",
       "      <td>0.0</td>\n",
       "      <td>b'normal.'</td>\n",
       "    </tr>\n",
       "    <tr>\n",
       "      <th>1</th>\n",
       "      <td>0</td>\n",
       "      <td>b'tcp'</td>\n",
       "      <td>b'http'</td>\n",
       "      <td>b'SF'</td>\n",
       "      <td>1</td>\n",
       "      <td>8</td>\n",
       "      <td>8</td>\n",
       "      <td>0.0</td>\n",
       "      <td>19</td>\n",
       "      <td>0.0</td>\n",
       "      <td>b'normal.'</td>\n",
       "    </tr>\n",
       "    <tr>\n",
       "      <th>2</th>\n",
       "      <td>0</td>\n",
       "      <td>b'tcp'</td>\n",
       "      <td>b'http'</td>\n",
       "      <td>b'SF'</td>\n",
       "      <td>1</td>\n",
       "      <td>8</td>\n",
       "      <td>8</td>\n",
       "      <td>0.0</td>\n",
       "      <td>29</td>\n",
       "      <td>0.0</td>\n",
       "      <td>b'normal.'</td>\n",
       "    </tr>\n",
       "    <tr>\n",
       "      <th>3</th>\n",
       "      <td>0</td>\n",
       "      <td>b'tcp'</td>\n",
       "      <td>b'http'</td>\n",
       "      <td>b'SF'</td>\n",
       "      <td>1</td>\n",
       "      <td>6</td>\n",
       "      <td>6</td>\n",
       "      <td>0.0</td>\n",
       "      <td>39</td>\n",
       "      <td>0.0</td>\n",
       "      <td>b'normal.'</td>\n",
       "    </tr>\n",
       "    <tr>\n",
       "      <th>4</th>\n",
       "      <td>0</td>\n",
       "      <td>b'tcp'</td>\n",
       "      <td>b'http'</td>\n",
       "      <td>b'SF'</td>\n",
       "      <td>1</td>\n",
       "      <td>6</td>\n",
       "      <td>6</td>\n",
       "      <td>0.0</td>\n",
       "      <td>49</td>\n",
       "      <td>0.0</td>\n",
       "      <td>b'normal.'</td>\n",
       "    </tr>\n",
       "  </tbody>\n",
       "</table>\n",
       "</div>"
      ],
      "text/plain": [
       "  duration protocol_type  service   flag logged_in count srv_count  \\\n",
       "0        0        b'tcp'  b'http'  b'SF'         1     8         8   \n",
       "1        0        b'tcp'  b'http'  b'SF'         1     8         8   \n",
       "2        0        b'tcp'  b'http'  b'SF'         1     8         8   \n",
       "3        0        b'tcp'  b'http'  b'SF'         1     6         6   \n",
       "4        0        b'tcp'  b'http'  b'SF'         1     6         6   \n",
       "\n",
       "  serror_rate dst_host_srv_count dst_host_srv_serror_rate      labels  \n",
       "0         0.0                  9                      0.0  b'normal.'  \n",
       "1         0.0                 19                      0.0  b'normal.'  \n",
       "2         0.0                 29                      0.0  b'normal.'  \n",
       "3         0.0                 39                      0.0  b'normal.'  \n",
       "4         0.0                 49                      0.0  b'normal.'  "
      ]
     },
     "execution_count": 4,
     "metadata": {},
     "output_type": "execute_result"
    }
   ],
   "source": [
    "\"\"\" De entre todas las variables del dataframe, solo trabajaremos en \n",
    "    este ejercicio con las descritas en key_columns, por lo que tendréis que quitar el resto \"\"\"\n",
    "\n",
    "key_columns = ['duration', 'protocol_type', 'service', 'flag', 'logged_in', 'count', 'srv_count', 'serror_rate', 'dst_host_srv_count', 'dst_host_srv_serror_rate', 'labels']\n",
    "\n",
    "pd_data = pd_data[key_columns]\n",
    "pd_data.head()"
   ]
  },
  {
   "cell_type": "code",
   "execution_count": 5,
   "metadata": {},
   "outputs": [
    {
     "data": {
      "text/plain": [
       "duration                    0\n",
       "protocol_type               0\n",
       "service                     0\n",
       "flag                        0\n",
       "logged_in                   0\n",
       "count                       0\n",
       "srv_count                   0\n",
       "serror_rate                 0\n",
       "dst_host_srv_count          0\n",
       "dst_host_srv_serror_rate    0\n",
       "labels                      0\n",
       "dtype: int64"
      ]
     },
     "execution_count": 5,
     "metadata": {},
     "output_type": "execute_result"
    }
   ],
   "source": [
    "\"\"\" Comprobad que no haya nulos ni registros duplicados \"\"\"\n",
    "\n",
    "# codigo-alumno\n",
    "pd_data.isnull().sum()\n"
   ]
  },
  {
   "cell_type": "code",
   "execution_count": 6,
   "metadata": {},
   "outputs": [
    {
     "data": {
      "text/plain": [
       "439856"
      ]
     },
     "execution_count": 6,
     "metadata": {},
     "output_type": "execute_result"
    }
   ],
   "source": [
    "# Hay observaciones duplicadas\n",
    "pd_data.duplicated().sum()"
   ]
  },
  {
   "cell_type": "code",
   "execution_count": 7,
   "metadata": {},
   "outputs": [
    {
     "data": {
      "text/plain": [
       "0"
      ]
     },
     "execution_count": 7,
     "metadata": {},
     "output_type": "execute_result"
    }
   ],
   "source": [
    "pd_data = pd_data[~pd_data.duplicated()]# codigo-alumno\n",
    "pd_data.duplicated().sum()"
   ]
  },
  {
   "cell_type": "code",
   "execution_count": 8,
   "metadata": {},
   "outputs": [
    {
     "data": {
      "image/png": "[encoded data removed]",
      "text/plain": [
       "<Figure size 1080x360 with 1 Axes>"
      ]
     },
     "metadata": {
      "needs_background": "light"
     },
     "output_type": "display_data"
    }
   ],
   "source": [
    "\"\"\" Mostrar un barplot para la variable objetivo (labels)\"\"\"\n",
    "\n",
    "target = 'labels'\n",
    "\n",
    "# codigo-alumno\n",
    "\n",
    "x = pd_data.groupby([target]).size().sort_values(ascending=False) \n",
    "\n",
    "\n",
    "plt.figure(figsize = (15,5))\n",
    "sns.barplot(x.index, x, orient='v')\n",
    "plt.xticks(rotation=90)\n",
    "plt.show()"
   ]
  },
  {
   "cell_type": "code",
   "execution_count": 9,
   "metadata": {
    "scrolled": false
   },
   "outputs": [
    {
     "data": {
      "text/plain": [
       "labels\n",
       "b'neptune.'    27722\n",
       "b'normal.'     22455\n",
       "dtype: int64"
      ]
     },
     "execution_count": 9,
     "metadata": {},
     "output_type": "execute_result"
    }
   ],
   "source": [
    "\"\"\" Dado que hay dos etiquetas que se repiten con mayor frecuencia, \n",
    "    transformad la variable labels para que tenga un valor booleano que indique \n",
    "    si es la etiqueta más frecuente o la segunda más frecuente, \n",
    "    los demás registros los eliminaremos de este estudio \"\"\"\n",
    "\n",
    "# codigo-alumno\n",
    "\n",
    "etiquetas = np.array(x.index)[:2] # aprovecho con esta fácil expresión que x fuera ordenado en la celdilla anterior\n",
    "\n",
    "condition = pd_data.labels.apply(lambda row: row in etiquetas)\n",
    "\n",
    "pd_data = pd_data[condition]\n",
    "\n",
    "\n",
    "pd_data.groupby('labels').size().sort_values(ascending=False)"
   ]
  },
  {
   "cell_type": "code",
   "execution_count": 10,
   "metadata": {},
   "outputs": [],
   "source": [
    "pd_data.labels = (pd_data.labels == etiquetas[0]).astype('int') \n",
    "\n",
    "\n",
    "# El valor 1 corresponde a la etiqueta mas frecuente\n",
    "\n",
    "# Yo habría renombrado la variable dummy generada a partir de labels. No se ha realizado dado que en la celdilla de abajo \n",
    "# el enunciado vuelve a hacer mención explícita al nombre original\n",
    "\n",
    "# Otra opción (menos eficiente): pd_data.labels = pd_data.labels.apply(lambda row: 1 if row == etiquetas[0] else 0) \n",
    "\n",
    "\n"
   ]
  },
  {
   "cell_type": "code",
   "execution_count": 11,
   "metadata": {},
   "outputs": [
    {
     "data": {
      "image/png": "[encoded data removed]",
      "text/plain": [
       "<Figure size 504x360 with 1 Axes>"
      ]
     },
     "metadata": {
      "needs_background": "light"
     },
     "output_type": "display_data"
    }
   ],
   "source": [
    "\"\"\" Volved a mostrar el barplot para la variable objetivo (labels) \"\"\"\n",
    "\n",
    "# codigo-alumno\n",
    "x = pd_data.groupby([target]).size().sort_values(ascending=False) \n",
    "plt.figure(figsize = (7,5))\n",
    "sns.barplot(x.index, x, orient='v')\n",
    "plt.title('Barplot variable objetivo transformada, 1 indica la etiqueta más frecuente')\n",
    "plt.show()"
   ]
  },
  {
   "cell_type": "code",
   "execution_count": 12,
   "metadata": {},
   "outputs": [],
   "source": [
    "\"\"\" Separaremos las variables categóricas de las numéricas \"\"\"\n",
    "\n",
    "\n",
    "num_cols = ['duration', 'count', 'srv_count', 'serror_rate', 'dst_host_srv_count', 'dst_host_srv_serror_rate']\n",
    "cat_cols = ['protocol_type', 'service', 'flag', 'logged_in']\n",
    "\n",
    "pd_data[num_cols] = pd_data[num_cols].astype(float)"
   ]
  },
  {
   "cell_type": "code",
   "execution_count": 13,
   "metadata": {
    "scrolled": true
   },
   "outputs": [
    {
     "data": {
      "image/png": "[encoded data removed]",
      "text/plain": [
       "<Figure size 504x216 with 1 Axes>"
      ]
     },
     "metadata": {
      "needs_background": "light"
     },
     "output_type": "display_data"
    },
    {
     "data": {
      "image/png": "[encoded data removed]",
      "text/plain": [
       "<Figure size 504x216 with 1 Axes>"
      ]
     },
     "metadata": {
      "needs_background": "light"
     },
     "output_type": "display_data"
    },
    {
     "data": {
      "image/png": "[encoded data removed]",
      "text/plain": [
       "<Figure size 504x216 with 1 Axes>"
      ]
     },
     "metadata": {
      "needs_background": "light"
     },
     "output_type": "display_data"
    },
    {
     "data": {
      "image/png": "[encoded data removed]",
      "text/plain": [
       "<Figure size 504x216 with 1 Axes>"
      ]
     },
     "metadata": {
      "needs_background": "light"
     },
     "output_type": "display_data"
    },
    {
     "data": {
      "image/png": "[encoded data removed]",
      "text/plain": [
       "<Figure size 504x216 with 1 Axes>"
      ]
     },
     "metadata": {
      "needs_background": "light"
     },
     "output_type": "display_data"
    },
    {
     "data": {
      "image/png": "[encoded data removed]",
      "text/plain": [
       "<Figure size 504x216 with 1 Axes>"
      ]
     },
     "metadata": {
      "needs_background": "light"
     },
     "output_type": "display_data"
    }
   ],
   "source": [
    "\"\"\" Mostrad un histograma por cada variable numérica \"\"\"\n",
    "\n",
    "# codigo-alumno\n",
    "\n",
    "for num_col in num_cols:\n",
    "\n",
    "    plt.figure(figsize = (7,3))\n",
    "    sns.histplot(data =pd_data[num_col])\n",
    "    plt.show()\n",
    "\n",
    "\n",
    "\n"
   ]
  },
  {
   "cell_type": "code",
   "execution_count": 14,
   "metadata": {},
   "outputs": [
    {
     "name": "stdout",
     "output_type": "stream",
     "text": [
      "duration\n",
      "0.0        42875\n",
      "1.0         1102\n",
      "2.0          567\n",
      "3.0          424\n",
      "4.0          287\n",
      "           ...  \n",
      "2548.0         1\n",
      "2547.0         1\n",
      "2545.0         1\n",
      "2543.0         1\n",
      "58329.0        1\n",
      "Length: 2353, dtype: int64\n",
      "Recordemos que el número de observaciones es: 50177\n"
     ]
    }
   ],
   "source": [
    "\n",
    "# En esta celdilla, anticipándonos a la categorización de las variables numéricas, evaluamos si hay que eliminar o no \n",
    "# la variable duration, debido al desequilibrio mostrado en el barplot.\n",
    "\n",
    "\n",
    "# La variable duration a pesar de estar desequilibrada, no se elimina al representar los no 0 más del 10% del total\n",
    "\n",
    "\n",
    "print(pd_data.groupby('duration').size().sort_values(ascending=False))\n",
    "print('Recordemos que el número de observaciones es: ' + str( len(pd_data['duration']))   ) \n",
    "\n"
   ]
  },
  {
   "cell_type": "code",
   "execution_count": 15,
   "metadata": {},
   "outputs": [],
   "source": [
    "\"\"\" Por la forma de los histogramas, podría ser un buen estudio convertir las variables\n",
    "    numéricas a variables dummy, es lo que hareis en este apartado y, por tanto, pasarán \n",
    "    a ser categóricas todas las variables del dataframe. Esta parte será libre para el \n",
    "    estudiante. Deberá tomar la decisión que considere más apropiada para realizar esta \n",
    "    binarización \"\"\"\n",
    "\n",
    "# codigo-alumno\n",
    "\n",
    "# Aquí se pide transformar pd_data, no hacer un pipeline. Descarto ColumnTransformer en este apartado ya que daría un\n",
    "# np.array con el que luego actualizar pd_data. ColumnTransformer está pensado más para pipelines y en este ocasión encuentro\n",
    "#más intuitiva la solución que muestro a continuación\n",
    "\n",
    "# Las categorías deben quedar equilibradas lo máximo posible para reducir el riesgo de sobreajuste\n",
    "\n",
    "binarizations =[]\n",
    "\n",
    "for num_col in num_cols:\n",
    "\n",
    "    threshold = np.median(pd_data[num_col])\n",
    "    \n",
    "    binarizations.append([num_col, Binarizer(threshold = threshold)])\n",
    "\n",
    "    pd_data[num_col] = binarizations[-1][1].fit_transform(pd_data[[num_col]] )\n",
    "\n",
    "\n",
    "# Las transformaciones se guardan en la lista binarizations, donde se pueden recuperar los parámetros usados con el comando:\n",
    "# binarizations[-1][1].get_params()"
   ]
  },
  {
   "cell_type": "code",
   "execution_count": 16,
   "metadata": {
    "scrolled": false
   },
   "outputs": [
    {
     "data": {
      "image/png": "[encoded data removed]",
      "text/plain": [
       "<Figure size 504x216 with 1 Axes>"
      ]
     },
     "metadata": {
      "needs_background": "light"
     },
     "output_type": "display_data"
    },
    {
     "data": {
      "image/png": "[encoded data removed]",
      "text/plain": [
       "<Figure size 504x216 with 1 Axes>"
      ]
     },
     "metadata": {
      "needs_background": "light"
     },
     "output_type": "display_data"
    },
    {
     "data": {
      "image/png": "[encoded data removed]",
      "text/plain": [
       "<Figure size 504x216 with 1 Axes>"
      ]
     },
     "metadata": {
      "needs_background": "light"
     },
     "output_type": "display_data"
    },
    {
     "data": {
      "image/png": "[encoded data removed]",
      "text/plain": [
       "<Figure size 504x216 with 1 Axes>"
      ]
     },
     "metadata": {
      "needs_background": "light"
     },
     "output_type": "display_data"
    },
    {
     "data": {
      "image/png": "[encoded data removed]",
      "text/plain": [
       "<Figure size 504x216 with 1 Axes>"
      ]
     },
     "metadata": {
      "needs_background": "light"
     },
     "output_type": "display_data"
    },
    {
     "data": {
      "image/png": "[encoded data removed]",
      "text/plain": [
       "<Figure size 504x216 with 1 Axes>"
      ]
     },
     "metadata": {
      "needs_background": "light"
     },
     "output_type": "display_data"
    }
   ],
   "source": [
    "for num_col in num_cols:\n",
    "\n",
    "    plt.figure(figsize = (7,3))\n",
    "    sns.histplot(data =pd_data[num_col])\n",
    "    plt.show()"
   ]
  },
  {
   "cell_type": "code",
   "execution_count": 17,
   "metadata": {},
   "outputs": [
    {
     "data": {
      "image/png": "[encoded data removed]",
      "text/plain": [
       "<Figure size 504x360 with 1 Axes>"
      ]
     },
     "metadata": {
      "needs_background": "light"
     },
     "output_type": "display_data"
    },
    {
     "data": {
      "image/png": "[encoded data removed]",
      "text/plain": [
       "<Figure size 504x360 with 1 Axes>"
      ]
     },
     "metadata": {
      "needs_background": "light"
     },
     "output_type": "display_data"
    },
    {
     "data": {
      "image/png": "[encoded data removed]",
      "text/plain": [
       "<Figure size 504x360 with 1 Axes>"
      ]
     },
     "metadata": {
      "needs_background": "light"
     },
     "output_type": "display_data"
    },
    {
     "data": {
      "image/png": "[encoded data removed]",
      "text/plain": [
       "<Figure size 504x360 with 1 Axes>"
      ]
     },
     "metadata": {
      "needs_background": "light"
     },
     "output_type": "display_data"
    },
    {
     "data": {
      "image/png": "[encoded data removed]",
      "text/plain": [
       "<Figure size 504x360 with 1 Axes>"
      ]
     },
     "metadata": {
      "needs_background": "light"
     },
     "output_type": "display_data"
    },
    {
     "data": {
      "image/png": "[encoded data removed]",
      "text/plain": [
       "<Figure size 504x360 with 1 Axes>"
      ]
     },
     "metadata": {
      "needs_background": "light"
     },
     "output_type": "display_data"
    },
    {
     "data": {
      "image/png": "[encoded data removed]",
      "text/plain": [
       "<Figure size 504x360 with 1 Axes>"
      ]
     },
     "metadata": {
      "needs_background": "light"
     },
     "output_type": "display_data"
    },
    {
     "data": {
      "image/png": "[encoded data removed]",
      "text/plain": [
       "<Figure size 504x360 with 1 Axes>"
      ]
     },
     "metadata": {
      "needs_background": "light"
     },
     "output_type": "display_data"
    },
    {
     "data": {
      "image/png": "[encoded data removed]",
      "text/plain": [
       "<Figure size 504x360 with 1 Axes>"
      ]
     },
     "metadata": {
      "needs_background": "light"
     },
     "output_type": "display_data"
    },
    {
     "data": {
      "image/png": "[encoded data removed]",
      "text/plain": [
       "<Figure size 504x360 with 1 Axes>"
      ]
     },
     "metadata": {
      "needs_background": "light"
     },
     "output_type": "display_data"
    },
    {
     "data": {
      "image/png": "[encoded data removed]",
      "text/plain": [
       "<Figure size 504x360 with 1 Axes>"
      ]
     },
     "metadata": {
      "needs_background": "light"
     },
     "output_type": "display_data"
    }
   ],
   "source": [
    "\"\"\" Mostrad un barplot por cada variable \"\"\"\n",
    "\n",
    "# codigo-alumno\n",
    "\n",
    "for variable in pd_data.columns:    \n",
    "    x = pd_data.groupby([variable]).size().sort_values(ascending=False) \n",
    "    plt.figure(figsize = (7,5))\n",
    "    sns.barplot(x.index, x, orient='v')\n",
    "    plt.show()\n",
    "    \n",
    "    \n",
    "# La variable protocol_type precisará de un OneHotEncoder, al tomar valores tipo bytes y no 0-1.    \n"
   ]
  },
  {
   "cell_type": "code",
   "execution_count": 18,
   "metadata": {},
   "outputs": [
    {
     "data": {
      "text/plain": [
       "service\n",
       "b'private'     22715\n",
       "b'http'         7067\n",
       "b'smtp'         4574\n",
       "b'domain_u'     3799\n",
       "b'other'        2677\n",
       "               ...  \n",
       "b'urh_i'          12\n",
       "b'X11'             9\n",
       "b'tim_i'           2\n",
       "b'red_i'           1\n",
       "b'tftp_u'          1\n",
       "Length: 65, dtype: int64"
      ]
     },
     "execution_count": 18,
     "metadata": {},
     "output_type": "execute_result"
    }
   ],
   "source": [
    "\"\"\" Transformad la variable service en una variable dummy que nos permitan identificar el servicio\n",
    "    más frecuente frente al resto \"\"\"\n",
    "\n",
    "# codigo-alumno\n",
    "\n",
    "pd_data.groupby('service').size().sort_values(ascending=False)\n"
   ]
  },
  {
   "cell_type": "code",
   "execution_count": 19,
   "metadata": {},
   "outputs": [],
   "source": [
    "x = pd_data.groupby(['service']).size().sort_values(ascending=False) \n",
    "\n",
    "etiqueta = x.index[0] # El servicio más frecuente\n",
    "\n",
    "pd_data['service'] = (pd_data['service'] == etiqueta).astype('int') # 1 indica el servicio más frecuente\n",
    "\n",
    "\n"
   ]
  },
  {
   "cell_type": "code",
   "execution_count": 20,
   "metadata": {},
   "outputs": [
    {
     "data": {
      "text/plain": [
       "service\n",
       "0    27462\n",
       "1    22715\n",
       "dtype: int64"
      ]
     },
     "execution_count": 20,
     "metadata": {},
     "output_type": "execute_result"
    }
   ],
   "source": [
    "pd_data.groupby('service').size().sort_values(ascending=False) # comprobación"
   ]
  },
  {
   "cell_type": "code",
   "execution_count": 21,
   "metadata": {},
   "outputs": [
    {
     "data": {
      "text/plain": [
       "flag\n",
       "b'S0'    22846\n",
       "b'SF'    21553\n",
       "resto     5778\n",
       "dtype: int64"
      ]
     },
     "execution_count": 21,
     "metadata": {},
     "output_type": "execute_result"
    }
   ],
   "source": [
    "\"\"\" Transformad la variable flag en dos variables dummy que nos permitan identificar 3 tipos de flags, \n",
    "    los dos más comunes y el resto \"\"\"\n",
    "\n",
    "# codigo-alumno\n",
    "\n",
    "etiquetas = list (pd_data.groupby('flag').size().sort_values(ascending=False).index[:2] )# las dos flags más frecuentes\n",
    "\n",
    "#transformo el resto de flag por 'resto'\n",
    "\n",
    "pd_data.flag = pd_data.flag.apply(lambda row: row if row in etiquetas else 'resto')\n",
    "\n",
    "pd_data.groupby('flag').size().sort_values(ascending=False)"
   ]
  },
  {
   "cell_type": "code",
   "execution_count": 22,
   "metadata": {},
   "outputs": [
    {
     "data": {
      "text/html": [
       "<div>\n",
       "<style scoped>\n",
       "    .dataframe tbody tr th:only-of-type {\n",
       "        vertical-align: middle;\n",
       "    }\n",
       "\n",
       "    .dataframe tbody tr th {\n",
       "        vertical-align: top;\n",
       "    }\n",
       "\n",
       "    .dataframe thead th {\n",
       "        text-align: right;\n",
       "    }\n",
       "</style>\n",
       "<table border=\"1\" class=\"dataframe\">\n",
       "  <thead>\n",
       "    <tr style=\"text-align: right;\">\n",
       "      <th></th>\n",
       "      <th>duration</th>\n",
       "      <th>protocol_type</th>\n",
       "      <th>service</th>\n",
       "      <th>logged_in</th>\n",
       "      <th>count</th>\n",
       "      <th>srv_count</th>\n",
       "      <th>serror_rate</th>\n",
       "      <th>dst_host_srv_count</th>\n",
       "      <th>dst_host_srv_serror_rate</th>\n",
       "      <th>labels</th>\n",
       "      <th>flag_b'S0'</th>\n",
       "      <th>flag_b'SF'</th>\n",
       "    </tr>\n",
       "  </thead>\n",
       "  <tbody>\n",
       "    <tr>\n",
       "      <th>0</th>\n",
       "      <td>0.0</td>\n",
       "      <td>b'tcp'</td>\n",
       "      <td>0</td>\n",
       "      <td>1</td>\n",
       "      <td>0.0</td>\n",
       "      <td>0.0</td>\n",
       "      <td>0.0</td>\n",
       "      <td>0.0</td>\n",
       "      <td>0.0</td>\n",
       "      <td>0</td>\n",
       "      <td>0</td>\n",
       "      <td>1</td>\n",
       "    </tr>\n",
       "    <tr>\n",
       "      <th>1</th>\n",
       "      <td>0.0</td>\n",
       "      <td>b'tcp'</td>\n",
       "      <td>0</td>\n",
       "      <td>1</td>\n",
       "      <td>0.0</td>\n",
       "      <td>0.0</td>\n",
       "      <td>0.0</td>\n",
       "      <td>1.0</td>\n",
       "      <td>0.0</td>\n",
       "      <td>0</td>\n",
       "      <td>0</td>\n",
       "      <td>1</td>\n",
       "    </tr>\n",
       "    <tr>\n",
       "      <th>2</th>\n",
       "      <td>0.0</td>\n",
       "      <td>b'tcp'</td>\n",
       "      <td>0</td>\n",
       "      <td>1</td>\n",
       "      <td>0.0</td>\n",
       "      <td>0.0</td>\n",
       "      <td>0.0</td>\n",
       "      <td>1.0</td>\n",
       "      <td>0.0</td>\n",
       "      <td>0</td>\n",
       "      <td>0</td>\n",
       "      <td>1</td>\n",
       "    </tr>\n",
       "    <tr>\n",
       "      <th>3</th>\n",
       "      <td>0.0</td>\n",
       "      <td>b'tcp'</td>\n",
       "      <td>0</td>\n",
       "      <td>1</td>\n",
       "      <td>0.0</td>\n",
       "      <td>0.0</td>\n",
       "      <td>0.0</td>\n",
       "      <td>1.0</td>\n",
       "      <td>0.0</td>\n",
       "      <td>0</td>\n",
       "      <td>0</td>\n",
       "      <td>1</td>\n",
       "    </tr>\n",
       "    <tr>\n",
       "      <th>4</th>\n",
       "      <td>0.0</td>\n",
       "      <td>b'tcp'</td>\n",
       "      <td>0</td>\n",
       "      <td>1</td>\n",
       "      <td>0.0</td>\n",
       "      <td>0.0</td>\n",
       "      <td>0.0</td>\n",
       "      <td>1.0</td>\n",
       "      <td>0.0</td>\n",
       "      <td>0</td>\n",
       "      <td>0</td>\n",
       "      <td>1</td>\n",
       "    </tr>\n",
       "  </tbody>\n",
       "</table>\n",
       "</div>"
      ],
      "text/plain": [
       "   duration protocol_type  service logged_in  count  srv_count  serror_rate  \\\n",
       "0       0.0        b'tcp'        0         1    0.0        0.0          0.0   \n",
       "1       0.0        b'tcp'        0         1    0.0        0.0          0.0   \n",
       "2       0.0        b'tcp'        0         1    0.0        0.0          0.0   \n",
       "3       0.0        b'tcp'        0         1    0.0        0.0          0.0   \n",
       "4       0.0        b'tcp'        0         1    0.0        0.0          0.0   \n",
       "\n",
       "   dst_host_srv_count  dst_host_srv_serror_rate  labels  flag_b'S0'  \\\n",
       "0                 0.0                       0.0       0           0   \n",
       "1                 1.0                       0.0       0           0   \n",
       "2                 1.0                       0.0       0           0   \n",
       "3                 1.0                       0.0       0           0   \n",
       "4                 1.0                       0.0       0           0   \n",
       "\n",
       "   flag_b'SF'  \n",
       "0           1  \n",
       "1           1  \n",
       "2           1  \n",
       "3           1  \n",
       "4           1  "
      ]
     },
     "execution_count": 22,
     "metadata": {},
     "output_type": "execute_result"
    }
   ],
   "source": [
    "flag_pd = pd.get_dummies(pd_data.flag, prefix='flag' ) # pongo drop_first como falso porque quiero eliminar la columna 'flag_ressto'\n",
    "\n",
    "pd_data = pd.concat([pd_data, flag_pd], axis = 1) # juntamos ambos dataframes\n",
    "\n",
    "pd_data.drop(columns=['flag', 'flag_resto'], axis=1, inplace=True) # eliminamos la variable flag y flag_resto\n",
    "\n",
    "pd_data.head() # comprobación, solo aparecen  flag_b'S0' y flag_b'SF'\n"
   ]
  },
  {
   "cell_type": "code",
   "execution_count": 23,
   "metadata": {},
   "outputs": [
    {
     "data": {
      "image/png": "[encoded data removed]",
      "text/plain": [
       "<Figure size 504x360 with 1 Axes>"
      ]
     },
     "metadata": {
      "needs_background": "light"
     },
     "output_type": "display_data"
    },
    {
     "data": {
      "image/png": "[encoded data removed]",
      "text/plain": [
       "<Figure size 504x360 with 1 Axes>"
      ]
     },
     "metadata": {
      "needs_background": "light"
     },
     "output_type": "display_data"
    },
    {
     "data": {
      "image/png": "[encoded data removed]",
      "text/plain": [
       "<Figure size 504x360 with 1 Axes>"
      ]
     },
     "metadata": {
      "needs_background": "light"
     },
     "output_type": "display_data"
    },
    {
     "data": {
      "image/png": "[encoded data removed]",
      "text/plain": [
       "<Figure size 504x360 with 1 Axes>"
      ]
     },
     "metadata": {
      "needs_background": "light"
     },
     "output_type": "display_data"
    },
    {
     "data": {
      "image/png": "[encoded data removed]",
      "text/plain": [
       "<Figure size 504x360 with 1 Axes>"
      ]
     },
     "metadata": {
      "needs_background": "light"
     },
     "output_type": "display_data"
    },
    {
     "data": {
      "image/png": "[encoded data removed]",
      "text/plain": [
       "<Figure size 504x360 with 1 Axes>"
      ]
     },
     "metadata": {
      "needs_background": "light"
     },
     "output_type": "display_data"
    },
    {
     "data": {
      "image/png": "[encoded data removed]",
      "text/plain": [
       "<Figure size 504x360 with 1 Axes>"
      ]
     },
     "metadata": {
      "needs_background": "light"
     },
     "output_type": "display_data"
    },
    {
     "data": {
      "image/png": "[encoded data removed]",
      "text/plain": [
       "<Figure size 504x360 with 1 Axes>"
      ]
     },
     "metadata": {
      "needs_background": "light"
     },
     "output_type": "display_data"
    },
    {
     "data": {
      "image/png": "[encoded data removed]",
      "text/plain": [
       "<Figure size 504x360 with 1 Axes>"
      ]
     },
     "metadata": {
      "needs_background": "light"
     },
     "output_type": "display_data"
    },
    {
     "data": {
      "image/png": "[encoded data removed]",
      "text/plain": [
       "<Figure size 504x360 with 1 Axes>"
      ]
     },
     "metadata": {
      "needs_background": "light"
     },
     "output_type": "display_data"
    },
    {
     "data": {
      "image/png": "[encoded data removed]",
      "text/plain": [
       "<Figure size 504x360 with 1 Axes>"
      ]
     },
     "metadata": {
      "needs_background": "light"
     },
     "output_type": "display_data"
    },
    {
     "data": {
      "image/png": "[encoded data removed]",
      "text/plain": [
       "<Figure size 504x360 with 1 Axes>"
      ]
     },
     "metadata": {
      "needs_background": "light"
     },
     "output_type": "display_data"
    }
   ],
   "source": [
    "\"\"\" Volved a mostrad un barplot por cada variable \"\"\"\n",
    "\n",
    "# codigo-alumno\n",
    "\n",
    "for variable in pd_data.columns:    \n",
    "    x = pd_data.groupby([variable]).size().sort_values(ascending=False) \n",
    "    plt.figure(figsize = (7,5))\n",
    "    sns.barplot(x.index, x, orient='v')\n",
    "    plt.show()"
   ]
  },
  {
   "cell_type": "markdown",
   "metadata": {},
   "source": [
    "**Añadido por alumno**\n",
    "\n",
    "Hay una variable categórica, protocol_type, que aún queda por pasar a dummy. Tal operación se hará en el apartado **Model evaluation**. No obstante se procederá a hacer una transformación previa para agrupar las dos categorías menos frecuentes en una sola, la cual se llamará 'Otro'. El motivo es que una categoría tiene una frecuencia muy pequeña, sobre el 1%, que podría dar sobreajuste de los modelos resultantes.\n",
    "\n",
    "Además se pasará del tipo bytes a str para evitar un futuro TypeError al aplicar OneHotEncoder en esta variable."
   ]
  },
  {
   "cell_type": "code",
   "execution_count": 24,
   "metadata": {},
   "outputs": [
    {
     "data": {
      "text/plain": [
       "protocol_type\n",
       "b'tcp'     42280\n",
       "b'udp'      7246\n",
       "b'icmp'      651\n",
       "dtype: int64"
      ]
     },
     "execution_count": 24,
     "metadata": {},
     "output_type": "execute_result"
    }
   ],
   "source": [
    "pd_data.groupby(['protocol_type']).size().sort_values(ascending=False)\n"
   ]
  },
  {
   "cell_type": "code",
   "execution_count": 25,
   "metadata": {},
   "outputs": [],
   "source": [
    "protocol_mas_frecuente = pd_data.groupby(['protocol_type']).size().sort_values(ascending=False).index[0]\n",
    "\n",
    "\n",
    "\n",
    "pd_data.protocol_type = pd_data.protocol_type.apply(lambda row: 'Otro' if row != protocol_mas_frecuente else str(row))\n",
    "\n"
   ]
  },
  {
   "cell_type": "code",
   "execution_count": 26,
   "metadata": {
    "scrolled": false
   },
   "outputs": [
    {
     "data": {
      "image/png": "[encoded data removed]",
      "text/plain": [
       "<Figure size 1080x504 with 2 Axes>"
      ]
     },
     "metadata": {
      "needs_background": "light"
     },
     "output_type": "display_data"
    }
   ],
   "source": [
    "\"\"\" Mostrad un plot de correlaciones entre variables numéricas \"\"\"\n",
    "\n",
    "# codigo-alumno\n",
    "\n",
    "# dependiendo de la versión de matplotlib, puede haber problemas con su representación. Por eso, adjunto también el pdf.\n",
    "\n",
    "correlation_mat = pd_data[num_cols].corr()\n",
    "\n",
    "plt.subplots(figsize=(15,7))\n",
    "sns.heatmap(correlation_mat, annot = True, xticklabels=True, yticklabels=True)\n",
    "plt.xticks(rotation = 0)\n",
    "plt.yticks(rotation = 0)\n",
    "\n",
    "plt.show()\n"
   ]
  },
  {
   "cell_type": "markdown",
   "metadata": {},
   "source": [
    "### Model evaluation"
   ]
  },
  {
   "cell_type": "markdown",
   "metadata": {},
   "source": [
    "Cuestiones previas al model evaluation:\n",
    "    \n",
    "1) Se usan los modelos del ejercicio 1 incorporando además Gradient Boosting, un ensamblado que ha dado muy buenos resultados para problemas no lineales.\n",
    "\n",
    "2) Se aplicarán dos  técnicas de selección son usadas para nval=1,2,3 siendo nval el número de features a escoger. Dichas técnicas son el RFE (wrapper) y SelectKBest (Stats filters).\n",
    "\n",
    "3) Lo ideal sería hacer una mallado (grid) grueso de los hiperparámetros para todos los modelos y seleccionar unos pocos/el mejor. Después, realizar un mallado fino con los seleccionados para quedarnos finalmente el modelo ganador ajustado. En cualquier caso, se procede a realizar lo estipulado por el enunciado, correr >5 modelos con la tecnica de cv más aceptado. Es decir, el tuneado de los hiperparámetros no se contempla en este ejercicio. Dicho tuneo se realizaría con - por ejemplo - GridSearchCV como se hizo en el ejercicio 1.  \n",
    "\n",
    "\n",
    "Respecto a la elección de la **técnica de validación cruzada**, el compromiso es **velocidad de computación vs riesgo overfitting**. El riesgo de sobreajuste aumenta cuando las clases están muy desbalanceadas. La forma de proceder es intentar disminuir la proporción de iteraciones donde el conjunto test no incluya/infrarrepresente las clases minoritarias. Hay dos métodos principales, aparte de usar cv con repetición en vez de una sola partición train-test, los cuales se pueden combinar:\n",
    "\n",
    "1) Forzar a que en toda iteración se respeten las proporciones de la variable target en el conjunto test (y por tanto también en el train). Esto se llama 'stratified'.\n",
    "\n",
    "2) 'Shuffle' en cada iteración.\n",
    "\n",
    "Además, si los datos provienen de distintas fuentes que se han combinado para hacer el dataset, convendría usar también el método 'group'.\n",
    "\n",
    "El problema de usar todas estas técnicas de reducción del overfitting (cv, stratified, shuffle y -si es el caso- group) es que aumenta el tiempo computacional. Por tanto, conviene observar cuán de desbalanceados están las clases de la variable target antes de aplicar/combinar estas técnicas.\n",
    "\n",
    "En este ejercicio no se aplicará el método 'group' al asumir que todo el dataset proviene de una misma fuente, 1998 DARPA Intrusion Detection System (IDS) Evaluation dataset, creada por el MIT Lincoln Lab.\n",
    "(https://scikit-learn.org/stable/datasets/real_world.html#kddcup99-dataset)\n",
    "\n",
    "\n",
    "Al ser un dataset ya bastante grande, con las dos clases de la variable target bastante balanceadas observando el barplot y, teniendo en cuenta la capacidad de computación disponible, se prescindirá del 'shuffle' antes de cada iteración y de la repetición en la cv. La técnica de cv a emplear será la **StratifiedKFold** ya que no es mucho más lenta que KFold, siendo más robusta frente al sobreajuste.\n",
    "\n",
    "Las otros técnicas de cv no escogidas, se podrían utilizar en el posterior mallado fino de cara a elegir el modelo ganador.\n",
    "\n",
    "\n"
   ]
  },
  {
   "cell_type": "code",
   "execution_count": 27,
   "metadata": {},
   "outputs": [
    {
     "name": "stdout",
     "output_type": "stream",
     "text": [
      "LR_S1: 0.982024 (0.001403)\n",
      "LDA_S1: 0.982024 (0.001403)\n",
      "KNN_S1: 0.982024 (0.001403)\n",
      "DTC_S1: 0.982024 (0.001403)\n",
      "NB_S1: 0.982024 (0.001403)\n",
      "RFC_S1: 0.982024 (0.001403)\n",
      "SVM_S1: 0.982024 (0.001403)\n",
      "GB_S1: 0.982024 (0.001403)\n",
      "LR_R1: 0.982024 (0.001403)\n",
      "LDA_R1: 0.982024 (0.001403)\n",
      "KNN_R1: 0.982024 (0.001403)\n",
      "DTC_R1: 0.982024 (0.001403)\n",
      "NB_R1: 0.982024 (0.001403)\n",
      "RFC_R1: 0.982024 (0.001403)\n",
      "SVM_R1: 0.982024 (0.001403)\n",
      "GB_R1: 0.982024 (0.001403)\n",
      "LR_S2: 0.982024 (0.001403)\n",
      "LDA_S2: 0.982024 (0.001403)\n",
      "KNN_S2: 0.982024 (0.001403)\n",
      "DTC_S2: 0.982024 (0.001403)\n",
      "NB_S2: 0.982024 (0.001403)\n",
      "RFC_S2: 0.982024 (0.001403)\n",
      "SVM_S2: 0.982024 (0.001403)\n",
      "GB_S2: 0.982024 (0.001403)\n",
      "LR_R2: 0.982024 (0.001403)\n",
      "LDA_R2: 0.982024 (0.001403)\n",
      "KNN_R2: 0.982024 (0.001403)\n",
      "DTC_R2: 0.982024 (0.001403)\n",
      "NB_R2: 0.982024 (0.001403)\n",
      "RFC_R2: 0.982024 (0.001403)\n",
      "SVM_R2: 0.982024 (0.001403)\n",
      "GB_R2: 0.982024 (0.001403)\n",
      "LR_S3: 0.988262 (0.001335)\n",
      "LDA_S3: 0.982024 (0.001403)\n",
      "KNN_S3: 0.988262 (0.001335)\n",
      "DTC_S3: 0.988262 (0.001335)\n",
      "NB_S3: 0.982024 (0.001403)\n",
      "RFC_S3: 0.988262 (0.001335)\n",
      "SVM_S3: 0.988262 (0.001335)\n",
      "GB_S3: 0.988262 (0.001335)\n",
      "LR_R3: 0.988999 (0.001201)\n",
      "LDA_R3: 0.982024 (0.001403)\n",
      "KNN_R3: 0.988999 (0.001201)\n",
      "DTC_R3: 0.988999 (0.001201)\n",
      "NB_R3: 0.982024 (0.001403)\n",
      "RFC_R3: 0.988999 (0.001201)\n",
      "SVM_R3: 0.988999 (0.001201)\n",
      "GB_R3: 0.988999 (0.001201)\n"
     ]
    },
    {
     "data": {
      "image/png": "[encoded data removed]",
      "text/plain": [
       "<Figure size 1440x1080 with 1 Axes>"
      ]
     },
     "metadata": {
      "needs_background": "light"
     },
     "output_type": "display_data"
    }
   ],
   "source": [
    "\"\"\" Realizad una evaluación de, al menos, cinco modelos de machine learning con\n",
    "    la técnica de validación cruzada más acertada (10 splits). Además, se pide\n",
    "    incorporar, al menos, una técnica de selección previa de las 1, 2 o 3 features que\n",
    "    mejores resultados ofrezca (Nota, tendreis que usar OneHotEncoder para las variables \n",
    "    que tengan strings) \"\"\"\n",
    "\n",
    "X = pd_data.drop(target, axis=1) \n",
    "y = pd_data[target]\n",
    "\n",
    "# codigo-alumno\n",
    "\n",
    "\n",
    "def boxplots_algorithms_1(results, names): # mi versión de la función boxplots_algorithms\n",
    "    \n",
    "    plt.figure(figsize=(20,15))\n",
    "    plt.boxplot(results)\n",
    "    plt.xticks(range(1,len(names)+1), names)\n",
    "    plt.xticks(rotation = 90) # Al ser muchos modelos roto sus nombres para más legibilidad\n",
    "    plt.show()\n",
    "\n",
    "\n",
    "\n",
    "\n",
    "results = []\n",
    "names = []\n",
    "models = []\n",
    "feature_selectors =[]\n",
    "\n",
    "\n",
    "models.append(('LR', LogisticRegression(random_state=seed)))\n",
    "models.append(('LDA', LinearDiscriminantAnalysis()))\n",
    "models.append(('KNN', KNeighborsClassifier()))\n",
    "models.append(('DTC', DecisionTreeClassifier(random_state=seed)))\n",
    "models.append(('NB', GaussianNB()))\n",
    "models.append(('RFC', RandomForestClassifier(random_state=seed)))\n",
    "models.append(('SVM', SVC()))\n",
    "models.append(('GB', GradientBoostingClassifier(random_state=seed)))\n",
    "\n",
    "col_transformer = ColumnTransformer([('OneHotEncoder',OneHotEncoder(drop='first'), ['protocol_type'])],'passthrough')\n",
    "\n",
    "\n",
    "nvals =[1,2,3]\n",
    "\n",
    "for nval in nvals:\n",
    "        \n",
    "        feature_selectors.append(\n",
    "            [('_S'+str(nval), SelectKBest(k =nval)), \n",
    "            ('_R'+str(nval), RFE(LogisticRegression(random_state=seed), n_features_to_select=nval, step=1))]  )\n",
    "\n",
    "        for name_selector, feature_selector in feature_selectors[-1]:# justo la lista que acabo de crear\n",
    "\n",
    "            for name, model in models:\n",
    "\n",
    "                pipeline = Pipeline([('OneHotEncoder_a_protocol', col_transformer), \n",
    "                                     ('feature_selection', feature_selector),                      \n",
    "                                     ('model', model)])\n",
    "\n",
    "                cv_technique = StratifiedKFold(n_splits=10,  shuffle=True, random_state = seed ) \n",
    "                cv_results = cross_val_score(pipeline, X, y, scoring= 'accuracy', cv = cv_technique)\n",
    "\n",
    "                msg = \"%s: %f (%f)\" % (name + name_selector, cv_results.mean(), cv_results.std())\n",
    "                print(msg)\n",
    "\n",
    "                results.append(cv_results)\n",
    "                names.append(name + name_selector)\n",
    "\n",
    "\n",
    "            \n",
    "boxplots_algorithms_1(results, names)            \n",
    "            "
   ]
  },
  {
   "cell_type": "markdown",
   "metadata": {},
   "source": [
    "El modelo a elegir sería regresión lineal con selección de las tres variables más relevantes escogidas por RFE. Este modelo tiene mayor/igual tasa de acierto que otros modelos con una varianza similar - además de ser un modelo muy descriptivo donde los coeficientes tienen un claro significado. En el boxplot, este modelo es el 'LR_R3'.\n",
    "\n",
    "De nuevo la elección del modelo LR_R3 queda supeditada a las limitaciones de no haber hecho un grid search y del tipo de scoring escogido, como ya se indicó al final del ejercicio 1.\n",
    "\n",
    "\n",
    "Del boxplot se observa que hay una variable dominante ya que la tasa de acierto con una sola variable input (S1/R1) es bastante similar a añadir dos o tres variables input. \n",
    "\n",
    "Además, parece que hay una relación bastante lineal entre dicha variable dominante y la variable objetivo ya que la tasa de acierto es alta para regresión logística. Esto se puede comprobar viendo en la correlación entre la variable dominante y la objetivo, como se muestran en siguientes celdillas.\n",
    "\n",
    "En efecto, la variable más significativa es **'flag_b'SF''** con un coeficiente de correlación de casi -1 con la variable objetivo."
   ]
  },
  {
   "cell_type": "code",
   "execution_count": 28,
   "metadata": {},
   "outputs": [
    {
     "data": {
      "text/plain": [
       "array([ 5, 10,  3,  7,  2,  9, 11,  8,  6,  4,  1])"
      ]
     },
     "execution_count": 28,
     "metadata": {},
     "output_type": "execute_result"
    }
   ],
   "source": [
    "c = ColumnTransformer([('OneHotEncoder',OneHotEncoder(drop='first'), ['protocol_type'])],'passthrough').fit_transform(X)\n",
    "\n",
    "a =RFE(LogisticRegression(random_state=seed), n_features_to_select=1, step=1)\n",
    "\n",
    "a.fit(c,y).ranking_\n",
    "\n",
    "\n"
   ]
  },
  {
   "cell_type": "code",
   "execution_count": 29,
   "metadata": {},
   "outputs": [
    {
     "data": {
      "text/plain": [
       "Index(['duration', 'protocol_type', 'service', 'logged_in', 'count',\n",
       "       'srv_count', 'serror_rate', 'dst_host_srv_count',\n",
       "       'dst_host_srv_serror_rate', 'flag_b'S0'', 'flag_b'SF''],\n",
       "      dtype='object')"
      ]
     },
     "execution_count": 29,
     "metadata": {},
     "output_type": "execute_result"
    }
   ],
   "source": [
    "X.columns # ver qué variable tiene asignada el valor 1."
   ]
  },
  {
   "cell_type": "code",
   "execution_count": 30,
   "metadata": {
    "scrolled": true
   },
   "outputs": [
    {
     "data": {
      "text/plain": [
       "duration                   -0.458537\n",
       "service                     0.757011\n",
       "count                       0.857906\n",
       "srv_count                   0.279917\n",
       "serror_rate                 0.797110\n",
       "dst_host_srv_count         -0.606349\n",
       "dst_host_srv_serror_rate    0.784908\n",
       "labels                      1.000000\n",
       "flag_b'S0'                  0.819632\n",
       "flag_b'SF'                 -0.964150\n",
       "Name: labels, dtype: float64"
      ]
     },
     "execution_count": 30,
     "metadata": {},
     "output_type": "execute_result"
    }
   ],
   "source": [
    "pd_data.corr()['labels']"
   ]
  },
  {
   "cell_type": "markdown",
   "metadata": {},
   "source": [
    "El Análisis de las correlación se ha efectuado para el feature selector RFE. SelectKBest también identifica **'flag_b'SF''** como la variable más importante como se puede ver a continuación. Se esparaba que ambos selectores de variables dieran los mismos/parecidos resultados en base a la similitud de las cajas en el boxplot.\n"
   ]
  },
  {
   "cell_type": "code",
   "execution_count": 31,
   "metadata": {},
   "outputs": [
    {
     "data": {
      "text/plain": [
       "array([ 15037.22,  13358.28,  67349.02,  37809.44, 139883.46,   4265.61,\n",
       "        87435.4 ,  29172.99,  80516.25, 102703.07, 662381.87])"
      ]
     },
     "execution_count": 31,
     "metadata": {},
     "output_type": "execute_result"
    }
   ],
   "source": [
    "c = ColumnTransformer([('OneHotEncoder',OneHotEncoder(drop='first'), ['protocol_type'])],'passthrough').fit_transform(X)\n",
    "\n",
    "a =SelectKBest(k =1)\n",
    "\n",
    "a.fit(c,y).scores_\n"
   ]
  }
 ],
 "metadata": {
  "kernelspec": {
   "display_name": "Python 3",
   "language": "python",
   "name": "python3"
  },
  "language_info": {
   "codemirror_mode": {
    "name": "ipython",
    "version": 3
   },
   "file_extension": ".py",
   "mimetype": "text/x-python",
   "name": "python",
   "nbconvert_exporter": "python",
   "pygments_lexer": "ipython3",
   "version": "3.7.4"
  }
 },
 "nbformat": 4,
 "nbformat_minor": 2
}
